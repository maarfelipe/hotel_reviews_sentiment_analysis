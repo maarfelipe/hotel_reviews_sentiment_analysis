{
 "cells": [
  {
   "cell_type": "code",
   "execution_count": 12,
   "metadata": {},
   "outputs": [],
   "source": [
    "import matplotlib.pyplot as plt\n",
    "import pandas as pd\n",
    "from nltk.sentiment.vader import SentimentIntensityAnalyzer"
   ]
  },
  {
   "cell_type": "markdown",
   "metadata": {},
   "source": [
    "In this code block, I imported essential libraries for data visualization and sentiment analysis within my machine learning project.\n",
    "\n",
    "- **Matplotlib**: Used it for creating visualizations.\n",
    "- **Pandas**: Employed it for data manipulation and analysis.\n",
    "- **Seaborn**: Enhanced the style and aesthetics of Matplotlib plots.\n",
    "- **NLTK VADER SentimentIntensityAnalyzer**: Imported it for conducting sentiment analysis tasks on textual data."
   ]
  },
  {
   "cell_type": "code",
   "execution_count": 13,
   "metadata": {},
   "outputs": [
    {
     "data": {
      "text/html": [
       "<div>\n",
       "<style scoped>\n",
       "    .dataframe tbody tr th:only-of-type {\n",
       "        vertical-align: middle;\n",
       "    }\n",
       "\n",
       "    .dataframe tbody tr th {\n",
       "        vertical-align: top;\n",
       "    }\n",
       "\n",
       "    .dataframe thead th {\n",
       "        text-align: right;\n",
       "    }\n",
       "</style>\n",
       "<table border=\"1\" class=\"dataframe\">\n",
       "  <thead>\n",
       "    <tr style=\"text-align: right;\">\n",
       "      <th></th>\n",
       "      <th>Review</th>\n",
       "      <th>Rating</th>\n",
       "    </tr>\n",
       "  </thead>\n",
       "  <tbody>\n",
       "    <tr>\n",
       "      <th>0</th>\n",
       "      <td>nice hotel expensive parking got good deal sta...</td>\n",
       "      <td>4</td>\n",
       "    </tr>\n",
       "    <tr>\n",
       "      <th>1</th>\n",
       "      <td>ok nothing special charge diamond member hilto...</td>\n",
       "      <td>2</td>\n",
       "    </tr>\n",
       "    <tr>\n",
       "      <th>2</th>\n",
       "      <td>nice rooms not 4* experience hotel monaco seat...</td>\n",
       "      <td>3</td>\n",
       "    </tr>\n",
       "    <tr>\n",
       "      <th>3</th>\n",
       "      <td>unique, great stay, wonderful time hotel monac...</td>\n",
       "      <td>5</td>\n",
       "    </tr>\n",
       "    <tr>\n",
       "      <th>4</th>\n",
       "      <td>great stay great stay, went seahawk game aweso...</td>\n",
       "      <td>5</td>\n",
       "    </tr>\n",
       "  </tbody>\n",
       "</table>\n",
       "</div>"
      ],
      "text/plain": [
       "                                              Review  Rating\n",
       "0  nice hotel expensive parking got good deal sta...       4\n",
       "1  ok nothing special charge diamond member hilto...       2\n",
       "2  nice rooms not 4* experience hotel monaco seat...       3\n",
       "3  unique, great stay, wonderful time hotel monac...       5\n",
       "4  great stay great stay, went seahawk game aweso...       5"
      ]
     },
     "metadata": {},
     "output_type": "display_data"
    }
   ],
   "source": [
    "data = pd.read_csv('dataset/hotel_reviews.csv')\n",
    "display(data.head())"
   ]
  },
  {
   "cell_type": "markdown",
   "metadata": {},
   "source": [
    "I loaded the dataset from a CSV file named 'hotel_reviews.csv' into a Pandas DataFrame, then I displayed the first few rows of the loaded dataset for initial data exploration."
   ]
  },
  {
   "cell_type": "code",
   "execution_count": 14,
   "metadata": {},
   "outputs": [
    {
     "name": "stdout",
     "output_type": "stream",
     "text": [
      "<class 'pandas.core.frame.DataFrame'>\n",
      "RangeIndex: 20491 entries, 0 to 20490\n",
      "Data columns (total 2 columns):\n",
      " #   Column  Non-Null Count  Dtype \n",
      "---  ------  --------------  ----- \n",
      " 0   Review  20491 non-null  object\n",
      " 1   Rating  20491 non-null  int64 \n",
      "dtypes: int64(1), object(1)\n",
      "memory usage: 320.3+ KB\n"
     ]
    },
    {
     "data": {
      "text/plain": [
       "None"
      ]
     },
     "metadata": {},
     "output_type": "display_data"
    }
   ],
   "source": [
    "display(data.info())"
   ]
  },
  {
   "cell_type": "markdown",
   "metadata": {},
   "source": [
    "Used the .info() method to obtain an overview of the dataset's structure, including data types, missing values, and more."
   ]
  },
  {
   "cell_type": "code",
   "execution_count": 15,
   "metadata": {},
   "outputs": [
    {
     "data": {
      "text/plain": [
       "Review    0\n",
       "Rating    0\n",
       "dtype: int64"
      ]
     },
     "metadata": {},
     "output_type": "display_data"
    }
   ],
   "source": [
    "display(data.isnull().sum())"
   ]
  },
  {
   "cell_type": "markdown",
   "metadata": {},
   "source": [
    "I checked for missing values within the dataset using the .isnull() method and calculated the sum of missing values for each column."
   ]
  },
  {
   "cell_type": "code",
   "execution_count": 16,
   "metadata": {},
   "outputs": [
    {
     "data": {
      "image/png": "[encoded data removed]",
      "text/plain": [
       "<Figure size 700x700 with 1 Axes>"
      ]
     },
     "metadata": {},
     "output_type": "display_data"
    }
   ],
   "source": [
    "ratings = data['Rating'].value_counts()\n",
    "index = ratings.index\n",
    "values = ratings.values\n",
    "\n",
    "custom_colors = ['forestgreen', 'dodgerblue', 'darkorange', 'lightsalmon', 'red']\n",
    "plt.figure(figsize=(7, 7))\n",
    "plt.pie(values, labels=index, colors=custom_colors)\n",
    "central_circle = plt.Circle((0, 0), 0.5, color='white')\n",
    "fig = plt.gcf()\n",
    "fig.gca().add_artist(central_circle)\n",
    "plt.rc('font', size=12)\n",
    "plt.title('Hotel Reviews Ratings', fontsize=20)\n",
    "\n",
    "legend_labels = [f'{count}' for rating, count in zip(index, values)]\n",
    "plt.legend(legend_labels, title=\"Rating Count\", loc=\"center left\", bbox_to_anchor=(1, 0.5))\n",
    "\n",
    "plt.show()"
   ]
  },
  {
   "cell_type": "markdown",
   "metadata": {},
   "source": [
    "I created this graph to illustrate the distribution of hotel review ratings. Each colored segment of the pie chart represented a different rating category, and the size of each segment corresponded to the number of reviews with that specific rating. I added a legend to display the actual count of reviews for each rating category, providing a clear visual representation of the quantity of ratings in the dataset.\n",
    "\n",
    "The data reveals that the majority of guests have provided either a 5-star or a 4-star rating for the hotel services. These high ratings indicate a high level of satisfaction among most guests regarding the quality of the services they experienced during their stay. With this initial insight, I can now proceed to analyze the sentiments expressed in the hotel reviews in more detail."
   ]
  },
  {
   "cell_type": "code",
   "execution_count": 17,
   "metadata": {},
   "outputs": [
    {
     "data": {
      "text/html": [
       "<div>\n",
       "<style scoped>\n",
       "    .dataframe tbody tr th:only-of-type {\n",
       "        vertical-align: middle;\n",
       "    }\n",
       "\n",
       "    .dataframe tbody tr th {\n",
       "        vertical-align: top;\n",
       "    }\n",
       "\n",
       "    .dataframe thead th {\n",
       "        text-align: right;\n",
       "    }\n",
       "</style>\n",
       "<table border=\"1\" class=\"dataframe\">\n",
       "  <thead>\n",
       "    <tr style=\"text-align: right;\">\n",
       "      <th></th>\n",
       "      <th>Review</th>\n",
       "      <th>Rating</th>\n",
       "      <th>Positive</th>\n",
       "      <th>Negative</th>\n",
       "      <th>Neutral</th>\n",
       "    </tr>\n",
       "  </thead>\n",
       "  <tbody>\n",
       "    <tr>\n",
       "      <th>0</th>\n",
       "      <td>nice hotel expensive parking got good deal sta...</td>\n",
       "      <td>4</td>\n",
       "      <td>0.285</td>\n",
       "      <td>0.072</td>\n",
       "      <td>0.643</td>\n",
       "    </tr>\n",
       "    <tr>\n",
       "      <th>1</th>\n",
       "      <td>ok nothing special charge diamond member hilto...</td>\n",
       "      <td>2</td>\n",
       "      <td>0.189</td>\n",
       "      <td>0.110</td>\n",
       "      <td>0.701</td>\n",
       "    </tr>\n",
       "    <tr>\n",
       "      <th>2</th>\n",
       "      <td>nice rooms not 4* experience hotel monaco seat...</td>\n",
       "      <td>3</td>\n",
       "      <td>0.219</td>\n",
       "      <td>0.081</td>\n",
       "      <td>0.700</td>\n",
       "    </tr>\n",
       "    <tr>\n",
       "      <th>3</th>\n",
       "      <td>unique, great stay, wonderful time hotel monac...</td>\n",
       "      <td>5</td>\n",
       "      <td>0.385</td>\n",
       "      <td>0.060</td>\n",
       "      <td>0.555</td>\n",
       "    </tr>\n",
       "    <tr>\n",
       "      <th>4</th>\n",
       "      <td>great stay great stay, went seahawk game aweso...</td>\n",
       "      <td>5</td>\n",
       "      <td>0.221</td>\n",
       "      <td>0.135</td>\n",
       "      <td>0.643</td>\n",
       "    </tr>\n",
       "  </tbody>\n",
       "</table>\n",
       "</div>"
      ],
      "text/plain": [
       "                                              Review  Rating  Positive  \\\n",
       "0  nice hotel expensive parking got good deal sta...       4     0.285   \n",
       "1  ok nothing special charge diamond member hilto...       2     0.189   \n",
       "2  nice rooms not 4* experience hotel monaco seat...       3     0.219   \n",
       "3  unique, great stay, wonderful time hotel monac...       5     0.385   \n",
       "4  great stay great stay, went seahawk game aweso...       5     0.221   \n",
       "\n",
       "   Negative  Neutral  \n",
       "0     0.072    0.643  \n",
       "1     0.110    0.701  \n",
       "2     0.081    0.700  \n",
       "3     0.060    0.555  \n",
       "4     0.135    0.643  "
      ]
     },
     "metadata": {},
     "output_type": "display_data"
    }
   ],
   "source": [
    "sentiments = SentimentIntensityAnalyzer()\n",
    "data['Positive'] = [sentiments.polarity_scores(i)['pos'] for i in data['Review']]\n",
    "data['Negative'] = [sentiments.polarity_scores(i)['neg'] for i in data['Review']]\n",
    "data['Neutral'] = [sentiments.polarity_scores(i)['neu'] for i in data['Review']]\n",
    "display(data.head())"
   ]
  },
  {
   "cell_type": "markdown",
   "metadata": {},
   "source": [
    "In this code block, I utilized the NLTK VADER SentimentIntensityAnalyzer to perform sentiment analysis on the textual data within the dataset. The following actions were taken:\n",
    "\n",
    "- Created an instance of the SentimentIntensityAnalyzer class to analyze the sentiment of text data.\n",
    "- Calculated the positive, negative, and neutral sentiment scores for each review in the dataset using list comprehensions and the polarity_scores method provided by the SentimentIntensityAnalyzer.\n",
    "- Added three new columns ('Positive', 'Negative', and 'Neutral') to the dataset, each containing the corresponding sentiment score for the reviews.\n",
    "- Displayed the first few rows of the updated dataset to provide an initial look at the sentiment analysis results.\n",
    "\n",
    "This process allows for a more in-depth understanding of the sentiment distribution within the dataset and can be valuable for further analysis and insights.\n",
    "\n",
    "As per the feedback from the reviews, it appears that the hotel guests express contentment with the quality of services provided. I will now delve into the sentiment analysis of these reviews."
   ]
  },
  {
   "cell_type": "code",
   "execution_count": 18,
   "metadata": {},
   "outputs": [
    {
     "name": "stdout",
     "output_type": "stream",
     "text": [
      "Neutral 🙂\n"
     ]
    }
   ],
   "source": [
    "x = sum(data['Positive'])\n",
    "y = sum(data['Negative'])\n",
    "z = sum(data['Neutral'])\n",
    "\n",
    "def sentiment_score(a, b, c):\n",
    "    if (a > b) and (a > c):\n",
    "        print('Positive 😊')\n",
    "    elif (b > a) and (b > c):\n",
    "        print('Negative 😠')\n",
    "    else:\n",
    "        print('Neutral 🙂')\n",
    "        \n",
    "sentiment_score(x, y, z)"
   ]
  },
  {
   "cell_type": "markdown",
   "metadata": {},
   "source": [
    "In this code block:\n",
    "\n",
    "- Calculated the total positive, negative, and neutral sentiment scores for the entire dataset using the `sum()` function and the respective columns from the Pandas DataFrame.\n",
    "- Defined a custom function `sentiment_score(a, b, c)` that takes the total positive, negative, and neutral scores as inputs and determines the overall sentiment of the dataset.\n",
    "- Printed the overall sentiment label, which can be 'Positive 😊' if positive sentiment dominates, 'Negative 😠' if negative sentiment dominates, or 'Neutral 🙂' if the sentiment is relatively balanced.\n",
    "\n",
    "This code provides a high-level summary of the sentiment distribution within the dataset, simplifying the analysis to a single sentiment label based on the calculated scores.\n",
    "\n",
    "Hence, it can be inferred that the majority of individuals hold a neutral sentiment when evaluating the hotel services. I will now conduct a detailed examination of the sentiment scores."
   ]
  },
  {
   "cell_type": "code",
   "execution_count": 19,
   "metadata": {},
   "outputs": [
    {
     "name": "stdout",
     "output_type": "stream",
     "text": [
      "Positive: 6359.91\n",
      "Negative: 1473.48\n",
      "Neutral: 12657.63\n"
     ]
    }
   ],
   "source": [
    "print(f'Positive: {x:.2f}')\n",
    "print(f'Negative: {y:.2f}')\n",
    "print(f'Neutral: {z:.2f}')"
   ]
  },
  {
   "cell_type": "markdown",
   "metadata": {},
   "source": [
    "In this code block, I:\n",
    "\n",
    "- Printed the total positive sentiment score (`x`) with two decimal places using the `f-string` and the `:.2f` format specifier.\n",
    "- Printed the total negative sentiment score (`y`) with two decimal places in a similar manner.\n",
    "- Printed the total neutral sentiment score (`z`) with two decimal places using the `f-string`.\n",
    "\n",
    "This code provides a clear and concise display of the total sentiment scores, making it easy to understand the overall distribution of sentiment within the dataset.\n",
    "\n",
    "Based on the aforementioned findings, it is evident that over 12,000 reviews fall within the category of neutrality, while more than 6,000 reviews exhibit a positive sentiment. This observation underscores the high level of satisfaction among individuals who have experienced hotel services. Additionally, it is worth noting that the number of negative reviews is notably low, totaling fewer than 1,500 instances."
   ]
  }
 ],
 "metadata": {
  "kernelspec": {
   "display_name": "venv",
   "language": "python",
   "name": "python3"
  },
  "language_info": {
   "codemirror_mode": {
    "name": "ipython",
    "version": 3
   },
   "file_extension": ".py",
   "mimetype": "text/x-python",
   "name": "python",
   "nbconvert_exporter": "python",
   "pygments_lexer": "ipython3",
   "version": "3.11.4"
  }
 },
 "nbformat": 4,
 "nbformat_minor": 2
}
