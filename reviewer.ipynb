{
 "cells": [
  {
   "cell_type": "code",
   "execution_count": null,
   "metadata": {},
   "outputs": [],
   "source": [
    "import matplotlib.pyplot as plt\n",
    "import pandas as pd\n",
    "from nltk.sentiment.vader import SentimentIntensityAnalyzer"
   ]
  },
  {
   "cell_type": "markdown",
   "metadata": {},
   "source": [
    "In this code block, I imported essential libraries for data visualization and sentiment analysis within my machine learning project.\n",
    "\n",
    "- **Matplotlib**: Used it for creating visualizations.\n",
    "- **Pandas**: Employed it for data manipulation and analysis.\n",
    "- **Seaborn**: Enhanced the style and aesthetics of Matplotlib plots.\n",
    "- **NLTK VADER SentimentIntensityAnalyzer**: Imported it for conducting sentiment analysis tasks on textual data."
   ]
  },
  {
   "cell_type": "code",
   "execution_count": null,
   "metadata": {},
   "outputs": [],
   "source": [
    "data = pd.read_csv('dataset/hotel_reviews.csv')\n",
    "display(data.head())"
   ]
  },
  {
   "cell_type": "markdown",
   "metadata": {},
   "source": [
    "I loaded the dataset from a CSV file named 'hotel_reviews.csv' into a Pandas DataFrame, then I displayed the first few rows of the loaded dataset for initial data exploration."
   ]
  },
  {
   "cell_type": "code",
   "execution_count": null,
   "metadata": {},
   "outputs": [],
   "source": [
    "display(data.info())"
   ]
  },
  {
   "cell_type": "markdown",
   "metadata": {},
   "source": [
    "Used the .info() method to obtain an overview of the dataset's structure, including data types, missing values, and more."
   ]
  },
  {
   "cell_type": "code",
   "execution_count": null,
   "metadata": {},
   "outputs": [],
   "source": [
    "display(data.isnull().sum())"
   ]
  },
  {
   "cell_type": "markdown",
   "metadata": {},
   "source": [
    "I checked for missing values within the dataset using the .isnull() method and calculated the sum of missing values for each column."
   ]
  },
  {
   "cell_type": "code",
   "execution_count": null,
   "metadata": {},
   "outputs": [],
   "source": [
    "ratings = data['Rating'].value_counts()\n",
    "index = ratings.index\n",
    "values = ratings.values\n",
    "\n",
    "custom_colors = ['forestgreen', 'dodgerblue', 'darkorange', 'lightsalmon', 'red']\n",
    "plt.figure(figsize=(7, 7))\n",
    "plt.pie(values, labels=index, colors=custom_colors)\n",
    "central_circle = plt.Circle((0, 0), 0.5, color='white')\n",
    "fig = plt.gcf()\n",
    "fig.gca().add_artist(central_circle)\n",
    "plt.rc('font', size=12)\n",
    "plt.title('Hotel Reviews Ratings', fontsize=20)\n",
    "\n",
    "legend_labels = [f'{count}' for rating, count in zip(index, values)]\n",
    "plt.legend(legend_labels, title=\"Rating Count\", loc=\"center left\", bbox_to_anchor=(1, 0.5))\n",
    "\n",
    "plt.show()"
   ]
  },
  {
   "cell_type": "markdown",
   "metadata": {},
   "source": [
    "I created this graph to illustrate the distribution of hotel review ratings. Each colored segment of the pie chart represented a different rating category, and the size of each segment corresponded to the number of reviews with that specific rating. I added a legend to display the actual count of reviews for each rating category, providing a clear visual representation of the quantity of ratings in the dataset."
   ]
  },
  {
   "cell_type": "code",
   "execution_count": null,
   "metadata": {},
   "outputs": [],
   "source": [
    "sentiments = SentimentIntensityAnalyzer()\n",
    "data['Positive'] = [sentiments.polarity_scores(i)['pos'] for i in data['Review']]\n",
    "data['Negative'] = [sentiments.polarity_scores(i)['neg'] for i in data['Review']]\n",
    "data['Neutral'] = [sentiments.polarity_scores(i)['neu'] for i in data['Review']]\n",
    "display(data.head())"
   ]
  },
  {
   "cell_type": "markdown",
   "metadata": {},
   "source": [
    "In this code block, I utilized the NLTK VADER SentimentIntensityAnalyzer to perform sentiment analysis on the textual data within the dataset. The following actions were taken:\n",
    "\n",
    "- Created an instance of the SentimentIntensityAnalyzer class to analyze the sentiment of text data.\n",
    "- Calculated the positive, negative, and neutral sentiment scores for each review in the dataset using list comprehensions and the polarity_scores method provided by the SentimentIntensityAnalyzer.\n",
    "- Added three new columns ('Positive', 'Negative', and 'Neutral') to the dataset, each containing the corresponding sentiment score for the reviews.\n",
    "- Displayed the first few rows of the updated dataset to provide an initial look at the sentiment analysis results.\n",
    "\n",
    "This process allows for a more in-depth understanding of the sentiment distribution within the dataset and can be valuable for further analysis and insights."
   ]
  },
  {
   "cell_type": "code",
   "execution_count": null,
   "metadata": {},
   "outputs": [],
   "source": [
    "x = sum(data['Positive'])\n",
    "y = sum(data['Negative'])\n",
    "z = sum(data['Neutral'])\n",
    "\n",
    "def sentiment_score(a, b, c):\n",
    "    if (a > b) and (a > c):\n",
    "        print('Positive 😊')\n",
    "    elif (b > a) and (b > c):\n",
    "        print('Negative 😠')\n",
    "    else:\n",
    "        print('Neutral 🙂')\n",
    "        \n",
    "sentiment_score(x, y, z)"
   ]
  },
  {
   "cell_type": "markdown",
   "metadata": {},
   "source": [
    "In this code block:\n",
    "\n",
    "- Calculated the total positive, negative, and neutral sentiment scores for the entire dataset using the `sum()` function and the respective columns from the Pandas DataFrame.\n",
    "- Defined a custom function `sentiment_score(a, b, c)` that takes the total positive, negative, and neutral scores as inputs and determines the overall sentiment of the dataset.\n",
    "- Printed the overall sentiment label, which can be 'Positive 😊' if positive sentiment dominates, 'Negative 😠' if negative sentiment dominates, or 'Neutral 🙂' if the sentiment is relatively balanced.\n",
    "\n",
    "This code provides a high-level summary of the sentiment distribution within the dataset, simplifying the analysis to a single sentiment label based on the calculated scores."
   ]
  }
 ],
 "metadata": {
  "kernelspec": {
   "display_name": "venv",
   "language": "python",
   "name": "python3"
  },
  "language_info": {
   "codemirror_mode": {
    "name": "ipython",
    "version": 3
   },
   "file_extension": ".py",
   "mimetype": "text/x-python",
   "name": "python",
   "nbconvert_exporter": "python",
   "pygments_lexer": "ipython3",
   "version": "3.11.4"
  }
 },
 "nbformat": 4,
 "nbformat_minor": 2
}
