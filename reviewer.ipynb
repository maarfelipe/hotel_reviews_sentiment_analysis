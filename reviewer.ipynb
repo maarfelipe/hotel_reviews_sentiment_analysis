{
 "cells": [
  {
   "cell_type": "code",
   "execution_count": null,
   "metadata": {},
   "outputs": [],
   "source": [
    "import matplotlib.pyplot as plt\n",
    "import pandas as pd\n",
    "import seaborn as sns\n",
    "from nltk.sentiment.vader import SentimentIntensityAnalyzer"
   ]
  },
  {
   "cell_type": "markdown",
   "metadata": {},
   "source": [
    "In this code block, I imported essential libraries for data visualization and sentiment analysis within my machine learning project. -->\n",
    "\n",
    "- **Matplotlib**: Used it for creating visualizations.\n",
    "- **Pandas**: Employed it for data manipulation and analysis.\n",
    "- **Seaborn**: Enhanced the style and aesthetics of Matplotlib plots.\n",
    "- **NLTK VADER SentimentIntensityAnalyzer**: Imported it for conducting sentiment analysis tasks on textual data."
   ]
  }
 ],
 "metadata": {
  "kernelspec": {
   "display_name": "venv",
   "language": "python",
   "name": "python3"
  },
  "language_info": {
   "codemirror_mode": {
    "name": "ipython",
    "version": 3
   },
   "file_extension": ".py",
   "mimetype": "text/x-python",
   "name": "python",
   "nbconvert_exporter": "python",
   "pygments_lexer": "ipython3",
   "version": "3.11.4"
  }
 },
 "nbformat": 4,
 "nbformat_minor": 2
}
